{
 "cells": [
  {
   "cell_type": "code",
   "execution_count": 23,
   "id": "5f85f98a",
   "metadata": {},
   "outputs": [
    {
     "name": "stdout",
     "output_type": "stream",
     "text": [
      "Cross-Validation Scores: [0.94736842 0.96491228 0.99122807 0.99122807 0.98230088]\n",
      "Mean Score: 0.9754075454122031\n"
     ]
    }
   ],
   "source": [
    "from sklearn.ensemble import AdaBoostClassifier\n",
    "from sklearn.datasets import load_breast_cancer\n",
    "from sklearn.model_selection import cross_val_score\n",
    "\n",
    "# Load the Breast Cancer dataset\n",
    "data = load_breast_cancer()\n",
    "X = data.data\n",
    "y = data.target\n",
    "\n",
    "# Create an AdaBoost classifier\n",
    "ada_boost = AdaBoostClassifier(n_estimators=100)\n",
    "\n",
    "# Perform cross-validation\n",
    "scores = cross_val_score(ada_boost, X, y, cv=5)\n",
    "\n",
    "# Print the cross-validation scores\n",
    "print('Cross-Validation Scores:', scores)\n",
    "print('Mean Score:', scores.mean())"
   ]
  },
  {
   "cell_type": "code",
   "execution_count": null,
   "id": "9932f478",
   "metadata": {},
   "outputs": [],
   "source": []
  }
 ],
 "metadata": {
  "kernelspec": {
   "display_name": "Python 3 (ipykernel)",
   "language": "python",
   "name": "python3"
  },
  "language_info": {
   "codemirror_mode": {
    "name": "ipython",
    "version": 3
   },
   "file_extension": ".py",
   "mimetype": "text/x-python",
   "name": "python",
   "nbconvert_exporter": "python",
   "pygments_lexer": "ipython3",
   "version": "3.9.13"
  }
 },
 "nbformat": 4,
 "nbformat_minor": 5
}
